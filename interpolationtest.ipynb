{
 "cells": [
  {
   "cell_type": "code",
   "execution_count": 243,
   "metadata": {},
   "outputs": [],
   "source": [
    "import pandas as pd\n",
    "from scipy import interpolate\n",
    "import matplotlib.pyplot as plt\n",
    "import numpy as np\n",
    "from mpl_toolkits import mplot3d"
   ]
  },
  {
   "cell_type": "code",
   "execution_count": 244,
   "metadata": {},
   "outputs": [
    {
     "data": {
      "text/html": [
       "<div>\n",
       "<style scoped>\n",
       "    .dataframe tbody tr th:only-of-type {\n",
       "        vertical-align: middle;\n",
       "    }\n",
       "\n",
       "    .dataframe tbody tr th {\n",
       "        vertical-align: top;\n",
       "    }\n",
       "\n",
       "    .dataframe thead th {\n",
       "        text-align: right;\n",
       "    }\n",
       "</style>\n",
       "<table border=\"1\" class=\"dataframe\">\n",
       "  <thead>\n",
       "    <tr style=\"text-align: right;\">\n",
       "      <th></th>\n",
       "      <th>0</th>\n",
       "      <th>1</th>\n",
       "      <th>2</th>\n",
       "      <th>3</th>\n",
       "      <th>4</th>\n",
       "      <th>5</th>\n",
       "      <th>6</th>\n",
       "      <th>7</th>\n",
       "      <th>8</th>\n",
       "      <th>9</th>\n",
       "      <th>...</th>\n",
       "      <th>11</th>\n",
       "      <th>12</th>\n",
       "      <th>13</th>\n",
       "      <th>14</th>\n",
       "      <th>15</th>\n",
       "      <th>16</th>\n",
       "      <th>17</th>\n",
       "      <th>18</th>\n",
       "      <th>19</th>\n",
       "      <th>20</th>\n",
       "    </tr>\n",
       "  </thead>\n",
       "  <tbody>\n",
       "    <tr>\n",
       "      <th>0</th>\n",
       "      <td>1.946</td>\n",
       "      <td>1.963</td>\n",
       "      <td>1.979</td>\n",
       "      <td>1.996</td>\n",
       "      <td>2.013</td>\n",
       "      <td>2.029</td>\n",
       "      <td>2.045</td>\n",
       "      <td>2.061</td>\n",
       "      <td>2.077</td>\n",
       "      <td>2.093</td>\n",
       "      <td>...</td>\n",
       "      <td>2.124</td>\n",
       "      <td>2.139</td>\n",
       "      <td>2.154</td>\n",
       "      <td>2.169</td>\n",
       "      <td>2.184</td>\n",
       "      <td>2.199</td>\n",
       "      <td>2.214</td>\n",
       "      <td>2.229</td>\n",
       "      <td>2.243</td>\n",
       "      <td>2.258</td>\n",
       "    </tr>\n",
       "    <tr>\n",
       "      <th>1</th>\n",
       "      <td>1.920</td>\n",
       "      <td>1.937</td>\n",
       "      <td>1.954</td>\n",
       "      <td>1.970</td>\n",
       "      <td>1.987</td>\n",
       "      <td>2.003</td>\n",
       "      <td>2.019</td>\n",
       "      <td>2.035</td>\n",
       "      <td>2.050</td>\n",
       "      <td>2.066</td>\n",
       "      <td>...</td>\n",
       "      <td>2.097</td>\n",
       "      <td>2.112</td>\n",
       "      <td>2.127</td>\n",
       "      <td>2.142</td>\n",
       "      <td>2.157</td>\n",
       "      <td>2.172</td>\n",
       "      <td>2.186</td>\n",
       "      <td>2.201</td>\n",
       "      <td>2.216</td>\n",
       "      <td>2.230</td>\n",
       "    </tr>\n",
       "    <tr>\n",
       "      <th>2</th>\n",
       "      <td>1.897</td>\n",
       "      <td>1.914</td>\n",
       "      <td>1.931</td>\n",
       "      <td>1.947</td>\n",
       "      <td>1.963</td>\n",
       "      <td>1.979</td>\n",
       "      <td>1.995</td>\n",
       "      <td>2.011</td>\n",
       "      <td>2.026</td>\n",
       "      <td>2.042</td>\n",
       "      <td>...</td>\n",
       "      <td>2.072</td>\n",
       "      <td>2.088</td>\n",
       "      <td>2.103</td>\n",
       "      <td>2.117</td>\n",
       "      <td>2.132</td>\n",
       "      <td>2.147</td>\n",
       "      <td>2.162</td>\n",
       "      <td>2.176</td>\n",
       "      <td>2.190</td>\n",
       "      <td>2.205</td>\n",
       "    </tr>\n",
       "    <tr>\n",
       "      <th>3</th>\n",
       "      <td>1.877</td>\n",
       "      <td>1.893</td>\n",
       "      <td>1.910</td>\n",
       "      <td>1.926</td>\n",
       "      <td>1.942</td>\n",
       "      <td>1.958</td>\n",
       "      <td>1.974</td>\n",
       "      <td>1.989</td>\n",
       "      <td>2.005</td>\n",
       "      <td>2.020</td>\n",
       "      <td>...</td>\n",
       "      <td>2.051</td>\n",
       "      <td>2.066</td>\n",
       "      <td>2.080</td>\n",
       "      <td>2.095</td>\n",
       "      <td>2.110</td>\n",
       "      <td>2.124</td>\n",
       "      <td>2.139</td>\n",
       "      <td>2.153</td>\n",
       "      <td>2.168</td>\n",
       "      <td>2.182</td>\n",
       "    </tr>\n",
       "    <tr>\n",
       "      <th>4</th>\n",
       "      <td>1.858</td>\n",
       "      <td>1.875</td>\n",
       "      <td>1.891</td>\n",
       "      <td>1.907</td>\n",
       "      <td>1.923</td>\n",
       "      <td>1.939</td>\n",
       "      <td>1.954</td>\n",
       "      <td>1.970</td>\n",
       "      <td>1.985</td>\n",
       "      <td>2.001</td>\n",
       "      <td>...</td>\n",
       "      <td>2.031</td>\n",
       "      <td>2.046</td>\n",
       "      <td>2.060</td>\n",
       "      <td>2.075</td>\n",
       "      <td>2.090</td>\n",
       "      <td>2.104</td>\n",
       "      <td>2.119</td>\n",
       "      <td>2.133</td>\n",
       "      <td>2.147</td>\n",
       "      <td>2.161</td>\n",
       "    </tr>\n",
       "  </tbody>\n",
       "</table>\n",
       "<p>5 rows × 21 columns</p>\n",
       "</div>"
      ],
      "text/plain": [
       "      0      1      2      3      4      5      6      7      8      9   ...  \\\n",
       "0  1.946  1.963  1.979  1.996  2.013  2.029  2.045  2.061  2.077  2.093  ...   \n",
       "1  1.920  1.937  1.954  1.970  1.987  2.003  2.019  2.035  2.050  2.066  ...   \n",
       "2  1.897  1.914  1.931  1.947  1.963  1.979  1.995  2.011  2.026  2.042  ...   \n",
       "3  1.877  1.893  1.910  1.926  1.942  1.958  1.974  1.989  2.005  2.020  ...   \n",
       "4  1.858  1.875  1.891  1.907  1.923  1.939  1.954  1.970  1.985  2.001  ...   \n",
       "\n",
       "      11     12     13     14     15     16     17     18     19     20  \n",
       "0  2.124  2.139  2.154  2.169  2.184  2.199  2.214  2.229  2.243  2.258  \n",
       "1  2.097  2.112  2.127  2.142  2.157  2.172  2.186  2.201  2.216  2.230  \n",
       "2  2.072  2.088  2.103  2.117  2.132  2.147  2.162  2.176  2.190  2.205  \n",
       "3  2.051  2.066  2.080  2.095  2.110  2.124  2.139  2.153  2.168  2.182  \n",
       "4  2.031  2.046  2.060  2.075  2.090  2.104  2.119  2.133  2.147  2.161  \n",
       "\n",
       "[5 rows x 21 columns]"
      ]
     },
     "execution_count": 244,
     "metadata": {},
     "output_type": "execute_result"
    }
   ],
   "source": [
    "data_entropy = pd.read_csv('r134aentropymatrix.csv', header = None)\n",
    "data_pressure = pd.read_csv('data_p.csv', header = None)\n",
    "data_dt = np.arange(0,105,5)\n",
    "\n",
    "data_entropy.head(n=5)"
   ]
  },
  {
   "cell_type": "code",
   "execution_count": 245,
   "metadata": {},
   "outputs": [
    {
     "data": {
      "text/html": [
       "<div>\n",
       "<style scoped>\n",
       "    .dataframe tbody tr th:only-of-type {\n",
       "        vertical-align: middle;\n",
       "    }\n",
       "\n",
       "    .dataframe tbody tr th {\n",
       "        vertical-align: top;\n",
       "    }\n",
       "\n",
       "    .dataframe thead th {\n",
       "        text-align: right;\n",
       "    }\n",
       "</style>\n",
       "<table border=\"1\" class=\"dataframe\">\n",
       "  <thead>\n",
       "    <tr style=\"text-align: right;\">\n",
       "      <th></th>\n",
       "      <th>0</th>\n",
       "    </tr>\n",
       "  </thead>\n",
       "  <tbody>\n",
       "    <tr>\n",
       "      <th>0</th>\n",
       "      <td>0.006</td>\n",
       "    </tr>\n",
       "    <tr>\n",
       "      <th>1</th>\n",
       "      <td>0.009</td>\n",
       "    </tr>\n",
       "    <tr>\n",
       "      <th>2</th>\n",
       "      <td>0.015</td>\n",
       "    </tr>\n",
       "    <tr>\n",
       "      <th>3</th>\n",
       "      <td>0.024</td>\n",
       "    </tr>\n",
       "    <tr>\n",
       "      <th>4</th>\n",
       "      <td>0.037</td>\n",
       "    </tr>\n",
       "  </tbody>\n",
       "</table>\n",
       "</div>"
      ],
      "text/plain": [
       "       0\n",
       "0  0.006\n",
       "1  0.009\n",
       "2  0.015\n",
       "3  0.024\n",
       "4  0.037"
      ]
     },
     "execution_count": 245,
     "metadata": {},
     "output_type": "execute_result"
    }
   ],
   "source": [
    "data_pressure.head(n=5)"
   ]
  },
  {
   "cell_type": "code",
   "execution_count": 246,
   "metadata": {},
   "outputs": [
    {
     "data": {
      "text/plain": [
       "array([  0,   5,  10,  15,  20,  25,  30,  35,  40,  45,  50,  55,  60,\n",
       "        65,  70,  75,  80,  85,  90,  95, 100])"
      ]
     },
     "execution_count": 246,
     "metadata": {},
     "output_type": "execute_result"
    }
   ],
   "source": [
    "data_dt"
   ]
  },
  {
   "cell_type": "code",
   "execution_count": 247,
   "metadata": {},
   "outputs": [
    {
     "data": {
      "text/plain": [
       "(42, 21)"
      ]
     },
     "execution_count": 247,
     "metadata": {},
     "output_type": "execute_result"
    }
   ],
   "source": [
    "dt_grid, pressure_grid = np.meshgrid(data_dt, data_pressure)\n",
    "\n",
    "dt_grid.shape "
   ]
  },
  {
   "cell_type": "code",
   "execution_count": 248,
   "metadata": {},
   "outputs": [
    {
     "data": {
      "text/plain": [
       "(42, 21)"
      ]
     },
     "execution_count": 248,
     "metadata": {},
     "output_type": "execute_result"
    }
   ],
   "source": [
    "pressure_grid.shape"
   ]
  },
  {
   "cell_type": "code",
   "execution_count": 250,
   "metadata": {},
   "outputs": [
    {
     "data": {
      "text/plain": [
       "(42, 21)"
      ]
     },
     "execution_count": 250,
     "metadata": {},
     "output_type": "execute_result"
    }
   ],
   "source": [
    "data_entropy.shape"
   ]
  },
  {
   "cell_type": "code",
   "execution_count": 252,
   "metadata": {},
   "outputs": [],
   "source": [
    "entropyfunction = interpolate.interp2d(dt_grid, pressure_grid, data_entropy)"
   ]
  },
  {
   "cell_type": "code",
   "execution_count": 253,
   "metadata": {},
   "outputs": [
    {
     "data": {
      "text/plain": [
       "array([1.83972168])"
      ]
     },
     "execution_count": 253,
     "metadata": {},
     "output_type": "execute_result"
    }
   ],
   "source": [
    "entropyfunction(5,4)"
   ]
  }
 ],
 "metadata": {
  "kernelspec": {
   "display_name": "Python 3.9.13 ('base')",
   "language": "python",
   "name": "python3"
  },
  "language_info": {
   "codemirror_mode": {
    "name": "ipython",
    "version": 3
   },
   "file_extension": ".py",
   "mimetype": "text/x-python",
   "name": "python",
   "nbconvert_exporter": "python",
   "pygments_lexer": "ipython3",
   "version": "3.9.13"
  },
  "orig_nbformat": 4,
  "vscode": {
   "interpreter": {
    "hash": "ea8238db6dc1fe8cf6fe83219457bde9bcbcde2053d40c59d2e78211d10c5fee"
   }
  }
 },
 "nbformat": 4,
 "nbformat_minor": 2
}
